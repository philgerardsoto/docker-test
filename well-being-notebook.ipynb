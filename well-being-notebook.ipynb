{
 "cells": [
  {
   "cell_type": "code",
   "execution_count": null,
   "metadata": {},
   "outputs": [],
   "source": [
    "import dlt\n",
    "from dlt.sources.helpers import requests"
   ]
  },
  {
   "cell_type": "code",
   "execution_count": null,
   "metadata": {},
   "outputs": [],
   "source": [
    "# Create a dlt pipeline that will load\n",
    "# chess player data to the DuckDB destination\n",
    "pipeline = dlt.pipeline(\n",
    "    pipeline_name='chess_pipeline',\n",
    "    destination='duckdb',\n",
    "    dataset_name='player_data'\n",
    ")\n",
    "\n",
    "# Grab some player data from Chess.com API\n",
    "data = []\n",
    "for player in ['magnuscarlsen', 'rpragchess']:\n",
    "    response = requests.get(f'https://api.chess.com/pub/player/{player}')\n",
    "    response.raise_for_status()\n",
    "    data.append(response.json())\n",
    "\n",
    "# Extract, normalize, and load the data\n",
    "pipeline.run(data, table_name='player')"
   ]
  }
 ],
 "metadata": {
  "language_info": {
   "name": "python"
  }
 },
 "nbformat": 4,
 "nbformat_minor": 2
}
